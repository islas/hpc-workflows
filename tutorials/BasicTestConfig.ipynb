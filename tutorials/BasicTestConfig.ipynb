{
 "cells": [
  {
   "cell_type": "markdown",
   "id": "0ed12d27",
   "metadata": {},
   "source": [
    "# Creating a basic test config\n",
    "In this tutorial we will be breaking down how to write a simple but fully working test config in the expected JSON format. We will be using common terminology found in the repo's README.md - refer to that for any underlined terms that need clarification. Anything in `\"code-quoted\"` format refers specifically to the test config, and anything in <ins>underlined</ins> format refers to specific terminology that can be found in the [README.md](../README.md)."
   ]
  },
  {
   "cell_type": "code",
   "execution_count": null,
   "id": "914a55e6",
   "metadata": {},
   "outputs": [],
   "source": [
    "# Get notebook location\n",
    "shellReturn = !pwd\n",
    "notebookDirectory = shellReturn[0]\n",
    "print( \"Working from \" + notebookDirectory )"
   ]
  },
  {
   "cell_type": "markdown",
   "id": "d9d4d638-f770-4d84-891c-250a7e59bc96",
   "metadata": {},
   "source": [
    "## Test Config Format\n",
    "So what is the <ins>test config</ins> format, aside from JSON? It will look like this :"
   ]
  },
  {
   "cell_type": "code",
   "execution_count": null,
   "id": "d1898e0c-62ce-485e-ae9c-21eaf194b11e",
   "metadata": {},
   "outputs": [],
   "source": [
    "# Output template file documenting options\n",
    "from IPython.display import Markdown as md\n",
    "md( \"```jsonc\\n\" + open( notebookDirectory + \"/../.ci/template.json\", \"r\" ).read() + \"\\n```\" )\n"
   ]
  },
  {
   "cell_type": "markdown",
   "id": "96c37c24-7f67-4e0e-9257-64088a8bedf4",
   "metadata": {},
   "source": [
    "The bulk of the the configurable power of this layout is generally carried by the `\"submit_options\"` and its ability to be inherited + overridden, especially on a per-host-FQDN manner which is discussed in the [Advanced Test Config](./AdvancedTestConfig.ipynb).\n",
    "\n",
    "\n",
    "## Writing our own test config\n",
    "The explanation of the file layout is useful for knowing all available options in the test config, but what if you want to just get started or maybe don't even need all the features? What is the simplest way to start? Let's begind with the most barebones config of :\n",
    "```json\n",
    "{\n",
    "  \"our-test\" : { \"steps\" : { \"our-step0\" : { \"command\" : \"./tests/scripts/echo_normal.sh\" } } }\n",
    "}\n",
    "```"
   ]
  },
  {
   "cell_type": "code",
   "execution_count": null,
   "id": "2da27445",
   "metadata": {},
   "outputs": [],
   "source": [
    "%%bash -s \"$notebookDirectory\"\n",
    "cat << EOF > $1/../our-config.json\n",
    "{\n",
    "  \"our-test\" : { \"steps\" : { \"our-step0\" : { \"command\" : \"./tests/scripts/echo_normal.sh\" } } }\n",
    "}\n",
    "EOF\n",
    "\n",
    "echo \"$( realpath $1/../our-config.json ) :\"\n",
    "cat $1/../our-config.json"
   ]
  },
  {
   "cell_type": "markdown",
   "id": "2276540e",
   "metadata": {},
   "source": [
    "Now that we have that test config ready, let's run it to make sure it works with our <ins>run script</ins>"
   ]
  },
  {
   "cell_type": "code",
   "execution_count": null,
   "id": "2e213502",
   "metadata": {},
   "outputs": [],
   "source": [
    "%%bash -s \"$notebookDirectory\"\n",
    "$1/../.ci/runner.py $1/../our-config.json -t our-test"
   ]
  },
  {
   "cell_type": "markdown",
   "id": "23356d60",
   "metadata": {},
   "source": [
    "Excellent! While we won't go into the more complex launch options, we can make the <ins>test</ins> run as if already inside the process pool to see even clearer what would happen in the `_stdout.log` redirect using the `--forceSingle/-fs` option. We could look at the log as well but this way mimics what would happen, and gives you a better idea that nothing truly complex is happening under the hood."
   ]
  },
  {
   "cell_type": "code",
   "execution_count": null,
   "id": "12ae5809",
   "metadata": {},
   "outputs": [],
   "source": [
    "%%bash -s \"$notebookDirectory\"\n",
    "$1/../.ci/runner.py $1/../our-config.json -t our-test --forceSingle # we could shorten this option to -fs"
   ]
  },
  {
   "cell_type": "markdown",
   "id": "245494ee",
   "metadata": {},
   "source": [
    "One step further is to inline the <ins>step</ins> output. Again, we will not do a deep-dive of launch options here, but instead are building up to a method of running an example <ins>suite of tests</ins> that doesn't rely on opening logfiles. This is mainly to better suit the notebook format. To inline our step  we can add `--inlineLocal/-i` to our run script options."
   ]
  },
  {
   "cell_type": "code",
   "execution_count": null,
   "id": "7204c7e9",
   "metadata": {},
   "outputs": [],
   "source": [
    "%%bash -s \"$notebookDirectory\"\n",
    "$1/../.ci/runner.py $1/../our-config.json -t our-test -fs -i # using shorthand options"
   ]
  },
  {
   "cell_type": "markdown",
   "id": "39a6af17",
   "metadata": {},
   "source": [
    "## Adding step arguments\n",
    "Okay, now that we have that printing neatly we can see that our example script doesn't do a whole lot aside from echoing our success <ins>keyphrase</ins> `TEST echo_normal.sh PASS`. Not much of a test?\n",
    "\n",
    "Let's add some <ins>arguments</ins> and observe how they get routed to the step."
   ]
  },
  {
   "cell_type": "code",
   "execution_count": null,
   "id": "c06c385f",
   "metadata": {},
   "outputs": [],
   "source": [
    "%%bash -s \"$notebookDirectory\"\n",
    "cat << EOF > $1/../our-config.json\n",
    "{\n",
    "  \"our-test\" : \n",
    "  { \n",
    "    \"steps\" : \n",
    "    { \n",
    "      \"our-step0\" : \n",
    "      { \n",
    "        \"command\" : \"./tests/scripts/echo_normal.sh\",\n",
    "        \"arguments\" : [ \"foobar\" ]\n",
    "      }\n",
    "    }\n",
    "  }\n",
    "}\n",
    "EOF\n",
    "\n",
    "echo \"$( realpath $1/../our-config.json ) :\"\n",
    "cat $1/../our-config.json"
   ]
  },
  {
   "cell_type": "markdown",
   "id": "06fa9911",
   "metadata": {},
   "source": [
    "Now we run again, but this time note the changes in both the step command listed after the line starting with `[step::our-step0]...Running command` and the actual step output."
   ]
  },
  {
   "cell_type": "code",
   "execution_count": null,
   "id": "7dcfaa63",
   "metadata": {},
   "outputs": [],
   "source": [
    "%%bash -s \"$notebookDirectory\"\n",
    "$1/../.ci/runner.py $1/../our-config.json -t our-test -fs -i # using shorthand options"
   ]
  },
  {
   "cell_type": "markdown",
   "id": "40e200f4",
   "metadata": {},
   "source": [
    "## Step dependencies\n",
    "Let's go ahead and add another step, but with this one having a <ins>dependency</ins> on the first causing it to run only after the first has completed."
   ]
  },
  {
   "cell_type": "code",
   "execution_count": null,
   "id": "6b51dd3c",
   "metadata": {},
   "outputs": [],
   "source": [
    "%%bash -s \"$notebookDirectory\"\n",
    "cat << EOF > $1/../our-config.json\n",
    "{\n",
    "  \"our-test\" : \n",
    "  { \n",
    "    \"steps\" : \n",
    "    { \n",
    "      \"our-step0\" : \n",
    "      { \n",
    "        \"command\" : \"./tests/scripts/echo_normal.sh\",\n",
    "        \"arguments\" : [ \"foobar\" ]\n",
    "      },\n",
    "      \"our-step1\" : \n",
    "      { \n",
    "        \"command\" : \"./tests/scripts/echo_normal.sh\",\n",
    "        \"arguments\" : [ \"why\", \"not more\", \"args?\" ],\n",
    "        \"dependencies\" : { \"our-step0\" : \"afterany\" }\n",
    "      }\n",
    "    }\n",
    "  }\n",
    "}\n",
    "EOF\n",
    "\n",
    "echo \"$( realpath $1/../our-config.json ) :\"\n",
    "cat $1/../our-config.json"
   ]
  },
  {
   "cell_type": "code",
   "execution_count": null,
   "id": "4feb70af",
   "metadata": {},
   "outputs": [],
   "source": [
    "%%bash -s \"$notebookDirectory\"\n",
    "$1/../.ci/runner.py $1/../our-config.json -t our-test -fs -i # using shorthand options"
   ]
  },
  {
   "cell_type": "markdown",
   "id": "7865341f",
   "metadata": {},
   "source": [
    "Most of the output should look very similar, but notice that after running `our-step0` there is an additional line now stating `Notifying children...` just before `our-step1` begins to run. This tells us that we have properly tied a dependency between `our-step0` as a parent step and `our-step1` as a dependent child step.\n",
    "\n",
    "Going a little further, if we look at `our-step1`'s respective `Running command` line we see that `\"not more\"` is being passed in as one whole argument. This emulates exactly how it was listed in the `\"arguments\"` for the step.\n",
    "\n",
    "## Adding argpacks\n",
    "Imagine we now want to add some additional generalized arguments to both our steps. We have the ability to add these higher-defined arguments as <ins>argpacks</ins> from any level of `\"submit_options\"` that appears in a step's <ins>ancestry</ins>. For the sake of demonstrating this, we will not add an <ins>argpack</ins> at the highest level, and instead show how it can be inherited from the <ins>test</ins> level"
   ]
  },
  {
   "cell_type": "code",
   "execution_count": null,
   "id": "1038d115",
   "metadata": {},
   "outputs": [],
   "source": [
    " %%bash -s \"$notebookDirectory\"\n",
    "cat << EOF > $1/../our-config.json\n",
    "{\n",
    "  \"our-test\" : \n",
    "  { \n",
    "    \"submit_options\" :\n",
    "    {\n",
    "      \"arguments\" :\n",
    "      {\n",
    "        \"our-default-argpack\" : [ \"foobar\" ]\n",
    "      }\n",
    "    },\n",
    "    \"steps\" : \n",
    "    { \n",
    "      \"our-step0\" : \n",
    "      { \n",
    "        \"command\" : \"./tests/scripts/echo_normal.sh\",\n",
    "        \"arguments\" : [ \"foobar\" ]\n",
    "      },\n",
    "      \"our-step1\" : \n",
    "      { \n",
    "        \"command\" : \"./tests/scripts/echo_normal.sh\",\n",
    "        \"arguments\" : [ \"why\", \"not more\", \"args?\" ],\n",
    "        \"dependencies\" : { \"our-step0\" : \"afterany\" }\n",
    "      }\n",
    "    }\n",
    "  }\n",
    "}\n",
    "EOF\n",
    "\n",
    "echo \"$( realpath $1/../our-config.json ) :\"\n",
    "cat $1/../our-config.json"
   ]
  },
  {
   "cell_type": "code",
   "execution_count": null,
   "id": "915d0957",
   "metadata": {},
   "outputs": [],
   "source": [
    "%%bash -s \"$notebookDirectory\"\n",
    "$1/../.ci/runner.py $1/../our-config.json -t our-test -fs -i # using shorthand options\n",
    "\n",
    "# Clean up all generated logs and files\n",
    "rm $1/../our-config.json $1/../*.log"
   ]
  },
  {
   "cell_type": "markdown",
   "id": "0e8903a5",
   "metadata": {},
   "source": [
    "Now notice how in the step preparation phase between `Submitting step ...` and `Running command` for each respective step we now have a new output of `From our-test adding argument pack 'our-default-argpack'...`. This line tells us both the origin of the <ins>argpack</ins> (which level in our step's <ins>ancestry</ins> provided the defintion) and the effective values of the arguments to be added. Any additional lines of the format `From <origin> adding argument pack '<argpack>'...` would also be listed in the order applied to the step's run command, where `<argpack>` is determining that order.\n",
    "\n",
    "This <ins>argpack</ins> is always listed after our steps' <ins>arguments</ins> in the step's final command listed - this is important to note!\n",
    "\n",
    "This concludes our simplest example of a test config that gives enough of an overview to provide users with enough understanding to put together a sufficiently capabale test <ins>suite</ins>"
   ]
  }
 ],
 "metadata": {
  "kernelspec": {
   "display_name": "Python 3 (ipykernel)",
   "language": "python",
   "name": "python3"
  },
  "language_info": {
   "codemirror_mode": {
    "name": "ipython",
    "version": 3
   },
   "file_extension": ".py",
   "mimetype": "text/x-python",
   "name": "python",
   "nbconvert_exporter": "python",
   "pygments_lexer": "ipython3",
   "version": "3.9.18"
  }
 },
 "nbformat": 4,
 "nbformat_minor": 5
}
