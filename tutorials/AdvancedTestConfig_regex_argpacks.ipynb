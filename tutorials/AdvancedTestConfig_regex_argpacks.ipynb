{
 "cells": [
  {
   "cell_type": "markdown",
   "id": "0ed12d27",
   "metadata": {},
   "source": [
    "# Utilizing advanced features - Regex <ins>argpacks</ins>\n",
    "In this tutorial we will be exploring how to use advanced features of the framework. We will be using common terminology found in the repo's README.md - refer to that for any underlined terms that need clarification. Additionally, we will be building upon the material covered in the [Basic Test Config](./BasicTestConfig.ipynb); please review that tutorial if you haven't already. Anything in `\"code-quoted\"` format refers specifically to the test config, and anything in <ins>underlined</ins> format refers to specific terminology that can be found in the [README.md](../README.md).\n"
   ]
  },
  {
   "cell_type": "code",
   "execution_count": null,
   "id": "914a55e6",
   "metadata": {},
   "outputs": [],
   "source": [
    "# Get notebook location\n",
    "shellReturn = !pwd\n",
    "notebookDirectory = shellReturn[0]\n",
    "print( \"Working from \" + notebookDirectory )"
   ]
  },
  {
   "cell_type": "markdown",
   "id": "0790ea3c-46bf-42cd-a384-d05aebdf5600",
   "metadata": {},
   "source": [
    "Advanced usage of the json config `\"<regex>::<argpack>\"` option under `\"arguments\"` will be the focus of this tutorial :\n"
   ]
  },
  {
   "cell_type": "code",
   "execution_count": null,
   "id": "099ddf0d-2a0b-4b5e-ba25-097980155902",
   "metadata": {},
   "outputs": [],
   "source": [
    "# Output template file documenting options\n",
    "from IPython.display import Markdown as md\n",
    "md( \"```jsonc\\n\" + open( notebookDirectory + \"/../.ci/template.json\", \"r\" )\n",
    "                        .read()\n",
    "                        .split( \"// dict of argpacks\" )[1]\n",
    "                        .split( \"// NO MORE KEYWORDS AT THIS LEVEL\" )[0] + \n",
    "   \"\\n```\" )"
   ]
  },
  {
   "cell_type": "markdown",
   "id": "d62a407f-ff23-4497-97f9-399c706bd2d0",
   "metadata": {},
   "source": [
    "## Regex-based <ins>argpacks</ins>\n",
    "\n",
    "The following section assumes you have a general understanding of regular expressions. For further reading please refer to :\n",
    "* [the wikipedia article](https://en.wikipedia.org/wiki/Regular_expression#Basic_concepts)\n",
    "* an excellent [open-source guide available in many languages](https://github.com/ziishaned/learn-regex)\n",
    "* a python-specific [`re` introduction](https://docs.python.org/3/howto/regex.html#regex-howto)\n",
    "* (something I personally find incredibly useful) an [online regex tester with in-depth explanations](https://regex101.com/)\n",
    "\n",
    "When using the `\"<regex>::\"`-style <ins>argpack</ins>, it is important to note a few things : \n",
    "1. The regex flavor used is python's `re` module\n",
    "2. The python if-check uses `re.match()` with no flags ([`re` flags](https://docs.python.org/3/library/re.html#flags))\n",
    "3. __ALL__ inherited arguments are attempted to be applied only when steps begin execution\n",
    "4. The regex is applied to the full <ins>ancestry</ins>\n",
    "5. To override the regex-<ins>argpack</ins>, it must match wholly `\"<regex>::<argpack>\"`\n",
    "6. The `\"<argpack>\"` portion of `\"<regex>::<argpack>\"` is what is used to sort order\n",
    "\n",
    "\n",
    "For (1) and (2), please refer to the `re` reference links. Simply put, (1) gives wide flexibility on the types of regex constructs that may be used and (2) means the regex is interpreted as literal as possible, i.e. case-sensitive, `^` and `$` only apply to beginning and end of string, and `.` does not match newline.\n",
    "\n",
    "\n",
    "The importance of (3) is that the cummulative set of arguments inherited in a <ins>step</ins>'s <ins>ancestry</ins> is always applied. When not using regex-<ins>argpack</ins>, one should be careful to only pass things down to appropriate steps. Thus, with the advantages of regex-based conditional application of <ins>argpacks</ins> it is possible to become lazy or sloppy in heavy reliance of this feature. This could be thought of akin to global variables in that solely relying on regexes to route arguments from the top-level `\"arguments\"` option pollutes the <ins>argpack</ins> namespace unnecessarily. Writing regexes is already complex enough, and having _all_ the regexes applied to _all_ <ins>steps</ins> but only needing them to apply to a few under a single specific <ins>test</ins> may be a disaster waiting to happen and easier solved by scoping the regex to just the <ins>test</ins>'s `\"argument\"` option.\n",
    "\n",
    "Point (4) provides corollary to (3): because the regex is applied to the <ins>ancestry</ins>, to make maximal use of this greater flexibility in application of the arguments one should be mindful of test and step naming in conjunction with writing well-defined regexes. Keeping this in mind for a <ins>test config</ins>, one could devise specific naming conventions allowing for specific test or step filtering. \n",
    "\n",
    "For instance, if I have a series of steps across multiple tests but all require a specific set of arguments when executing the \"build\" step of each test, I can extract the common build arguments and place them under a `\".*build.*::build_args\"` <ins>argpack</ins> if my \"build\" steps are prefixed with `\"build\"`. Furthermore, if my build steps across tests slightly differ based on compiler I can name my steps `\"build-gcc\"`, `\"build-icc\"`, `\"build-clang\"` and so on writing other <ins>argpacks</ins> such as `\".*-gcc.*::gcc_env\"` to load a specific environment.\n",
    "\n",
    "\n",
    "Finally, (5) and (6) are restatements from the [README.md](../README.md) \"How it works\"-><ins>Submit Options</ins> subsection. These matter when argument order or overriding an <ins>argpack</ins> is necessary. Generally speaking, if you find you need to often override an <ins>argpack</ins>, whether regex or not (but especially if regex) you are most likely overcomplicating things. Consider rescoping the arguments or moving them to specific `\"arguments\"` option inside a <ins>step</ins> (not the `\"submit_options\"`)\n",
    "\n",
    "### Simple regex-<ins>argpack</ins> config\n",
    "\n",
    "Let's start with something small : a test with two types of steps - a sender and receiver - with prefixes `send` and `recv`. We'd like for each to identify themselves with a defined string before output.\n"
   ]
  },
  {
   "cell_type": "code",
   "execution_count": null,
   "id": "2da27445",
   "metadata": {},
   "outputs": [],
   "source": [
    "%%bash -s \"$notebookDirectory\"\n",
    "cat << EOF > $1/../our-config.json\n",
    "{\n",
    "  \"regex-test\" : \n",
    "  {\n",
    "    \"submit_options\" :\n",
    "    {\n",
    "      \"arguments\" :\n",
    "      {\n",
    "        \".*send.*::send_prefix\" : [ \"[send] \" ],\n",
    "        \".*recv.*::recv_prefix\" : [ \"[recv] \" ]\n",
    "      }\n",
    "    },\n",
    "    \"steps\" :\n",
    "    {\n",
    "      \"send-step0\" : { \"command\" : \"./tests/scripts/echo_normal.sh\", \"arguments\" : [ \"Hello!\" ] },\n",
    "      \"recv-step1\" : { \"command\" : \"./tests/scripts/echo_normal.sh\", \"arguments\" : [ \"Hello back!\" ] },\n",
    "      \"send-step2\" : { \"command\" : \"./tests/scripts/echo_normal.sh\", \"arguments\" : [ \"Ping 1\" ] },\n",
    "      \"send-step3\" : { \"command\" : \"./tests/scripts/echo_normal.sh\", \"arguments\" : [ \"Ping 2\" ] },\n",
    "      \"recv-step4\" : { \"command\" : \"./tests/scripts/echo_normal.sh\", \"arguments\" : [ \"Pings received\" ] }\n",
    "    }\n",
    "  }\n",
    "}\n",
    "EOF\n",
    "\n",
    "echo \"$( realpath $1/../our-config.json ) :\"\n",
    "cat $1/../our-config.json"
   ]
  },
  {
   "cell_type": "markdown",
   "id": "2276540e",
   "metadata": {},
   "source": [
    "Let's run this config with `--forceSingle` to our <ins>run script</ins> to see the output easier. Likewise, we will use `--inlineLocal` to avoid the need to peek at log files."
   ]
  },
  {
   "cell_type": "code",
   "execution_count": null,
   "id": "2e213502",
   "metadata": {},
   "outputs": [],
   "source": [
    "%%bash -s \"$notebookDirectory\"\n",
    "$1/../.ci/runner.py $1/../our-config.json -t regex-test --forceSingle --inlineLocal"
   ]
  },
  {
   "cell_type": "markdown",
   "id": "23356d60",
   "metadata": {},
   "source": [
    "When inspecting the output, we do see in the lines following `Submitting step <stepname>...` where <ins>argpacks</ins> are applied the appropriate prefix is selected, but our prefix is being applied as a suffix. Even more explicit, the line after `Running command:` verbatim outputs the command and arguments showing two argument strings being supplied with our \"prefix\" last. Not quite what we wanted...\n",
    "\n",
    "<div class=\"alert alert-block alert-info\">\n",
    "<b>Recall:</b>\n",
    "The order of <ins>arguments</ins> applied is step-specifics first, then all cummulative <ins>argpacks</ins> from <code>\"submit_options\"</code> in alphabetical order with conflicts resolved by order of first appearance.\n",
    "</div>\n",
    "\n",
    "\n",
    "When applied to a scipt in a manner that is expected, the regex-<ins>argpacks</ins> can become a very powerful feature. Let's further explore how one might apply this to a broader scope of procedures.\n",
    "\n",
    "### Advanced regex-<ins>argpack</ins> config\n",
    "\n",
    "To get a feel for how best the regex feature of <ins>argpacks</ins> may be used, we will \"build\" a more complex set of <ins>steps</ins> that wouldn't just echo out the arguments. The term \"build\" here should be taken figuratively, as actually developing the logic to be outlined is beyond the scope of this tutorial. We will still be using the `echo_normal.sh` script for ease of use.\n",
    "\n",
    "First, assume we have a build system (CMake, Make, etc.) who can alternate build types based on flags or configuration inputs. Assuming builds can be run in parallel, we _could_ have each build test run as separate <ins>tests</ins> unto themselves. However, these could also be categorically one <ins>test</ins> -  a compilation test. Let's do just that with the following assumptions:\n",
    "* `build.sh` can facilitate our flags into the corresponding build system\n",
    "* `-o` determines the build output location\n",
    "* `-d` sets debug mode\n",
    "* `--mpi` sets build with MPI\n",
    "* `--omp` sets build with OpenMP\n",
    "* `--double` sets build with double precision\n",
    "* `-a` enables feature A\n",
    "* `-b` enables feature B\n",
    "* `-c` enables feature C which is mutually exclusive with A\n",
    "\n",
    "We don't want a combination of every option, just a select few for our most critical tests. \n"
   ]
  },
  {
   "cell_type": "code",
   "execution_count": null,
   "id": "9d465352-4004-4836-abdc-da2f8c22564b",
   "metadata": {},
   "outputs": [],
   "source": [
    "%%bash -s \"$notebookDirectory\"\n",
    "cat << EOF > $1/../our-config.json\n",
    "{\n",
    "  \"regex-test\" : \n",
    "  {\n",
    "    \"submit_options\" :\n",
    "    {\n",
    "      \"arguments\" :\n",
    "      {\n",
    "        \".*dbg.*::dbg_flag\" : [ \"-d\" ],\n",
    "        \".*mpi.*::mpi_flag\" : [ \"--mpi\" ],\n",
    "        \".*omp.*::omp_flag\" : [ \"--omp\" ],\n",
    "        \".*fp64.*::fp64_flag\" : [ \"--double\" ],\n",
    "        \".*ft[^A]*A.*::feature_a\" : [ \"-a\" ],\n",
    "        \".*ft[^B]*B.*::feature_b\" : [ \"-b\" ],\n",
    "        \".*ft[^C]*C.*::feature_b\" : [ \"-c\" ]\n",
    "      }\n",
    "    },\n",
    "    \"steps\" :\n",
    "    {\n",
    "      \"build-omp-fp32-dbg\"  : { \"command\" : \"./tests/scripts/echo_normal.sh\", \"arguments\" : [ \"-o\", \"build-omp-fp32-dbg\" ] },\n",
    "      \"build-omp-fp32-ftA\"  : { \"command\" : \"./tests/scripts/echo_normal.sh\", \"arguments\" : [ \"-o\", \"build-omp-fp32-ftA\" ] },\n",
    "      \"build-omp-fp32-ftAB\" : { \"command\" : \"./tests/scripts/echo_normal.sh\", \"arguments\" : [ \"-o\", \"build-omp-fp32-ftAB\" ] },\n",
    "      \"build-omp-fp32-ftBC\" : { \"command\" : \"./tests/scripts/echo_normal.sh\", \"arguments\" : [ \"-o\", \"build-omp-fp32-ftBC\" ] },\n",
    "      \"build-omp-fp64-ftB\"  : { \"command\" : \"./tests/scripts/echo_normal.sh\", \"arguments\" : [ \"-o\", \"build-omp-fp64-ftB\" ] },\n",
    "      \"build-mpi-fp32-dbg\"  : { \"command\" : \"./tests/scripts/echo_normal.sh\", \"arguments\" : [ \"-o\", \"build-mpi-fp32-dbg\" ] },\n",
    "      \"build-mpi-fp32\"      : { \"command\" : \"./tests/scripts/echo_normal.sh\", \"arguments\" : [ \"-o\", \"build-mpi-fp32\" ] },\n",
    "      \"build-mpi-fp64\"      : { \"command\" : \"./tests/scripts/echo_normal.sh\", \"arguments\" : [ \"-o\", \"build-mpi-fp64\" ] }\n",
    "    }\n",
    "  }\n",
    "}\n",
    "EOF\n",
    "\n",
    "echo \"$( realpath $1/../our-config.json ) :\"\n",
    "cat $1/../our-config.json"
   ]
  },
  {
   "cell_type": "markdown",
   "id": "d8df4957-4dff-40b6-9ffb-26a2b58bb7b7",
   "metadata": {},
   "source": [
    "Let's run this code and see how flags are routed to the appropriate tests."
   ]
  },
  {
   "cell_type": "code",
   "execution_count": null,
   "id": "12ae5809",
   "metadata": {},
   "outputs": [],
   "source": [
    "%%bash -s \"$notebookDirectory\"\n",
    "$1/../.ci/runner.py $1/../our-config.json -t regex-test --forceSingle --inlineLocal"
   ]
  },
  {
   "cell_type": "markdown",
   "id": "245494ee",
   "metadata": {},
   "source": [
    "By solely controlling the apt naming of our steps we can get the correct flags applied to the respective step. This, of course, is a heavily simplified example."
   ]
  }
 ],
 "metadata": {
  "kernelspec": {
   "display_name": "Python 3 (ipykernel)",
   "language": "python",
   "name": "python3"
  },
  "language_info": {
   "codemirror_mode": {
    "name": "ipython",
    "version": 3
   },
   "file_extension": ".py",
   "mimetype": "text/x-python",
   "name": "python",
   "nbconvert_exporter": "python",
   "pygments_lexer": "ipython3",
   "version": "3.9.18"
  }
 },
 "nbformat": 4,
 "nbformat_minor": 5
}
