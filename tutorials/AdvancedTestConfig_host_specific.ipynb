{
 "cells": [
  {
   "cell_type": "markdown",
   "id": "0912a8f1-0ea4-42e1-ae58-0581dd58d66c",
   "metadata": {},
   "source": [
    "# Utilizing advanced features - Regex <ins>argpacks</ins>\n",
    "In this tutorial we will be exploring how to use advanced features of the framework. We will be using common terminology found in the repo's README.md - refer to that for any underlined terms that need clarification. Additionally, we will be building upon the material covered in the [Basic Test Config](./BasicTestConfig.ipynb); please review that tutorial if you haven't already. Anything in `\"code-quoted\"` format refers specifically to the test config, and anything in <ins>underlined</ins> format refers to specific terminology that can be found in the [README.md](../README.md).\n"
   ]
  },
  {
   "cell_type": "code",
   "execution_count": null,
   "id": "01684ca6-6479-4a21-b046-7fd6f3b1367f",
   "metadata": {},
   "outputs": [],
   "source": [
    "# Get notebook location\n",
    "shellReturn = !pwd\n",
    "notebookDirectory = shellReturn[0]\n",
    "print( \"Working from \" + notebookDirectory )"
   ]
  },
  {
   "cell_type": "markdown",
   "id": "b52c71d1-81f4-4f62-ad54-928a80b17d73",
   "metadata": {},
   "source": [
    "Advanced usage of the json config options `\"<match-fqdn>\"` under `\"submit_options\"` will be the focus of this tutorial :\n"
   ]
  },
  {
   "cell_type": "code",
   "execution_count": null,
   "id": "ffe86068-392f-4f21-b9ac-88e1d4ecb59a",
   "metadata": {},
   "outputs": [],
   "source": [
    "# Output template file documenting options\n",
    "from IPython.display import Markdown as md\n",
    "md( \"```jsonc\\n\" + open( notebookDirectory + \"/../.ci/template.json\", \"r\" )\n",
    "                        .read()\n",
    "                        .split( \"]\\n    },\" )[1]\n",
    "                        .split( \"\\\"<may-match-other-host>\\\"\" )[0] + \n",
    "   \"\\n```\" )"
   ]
  },
  {
   "cell_type": "markdown",
   "id": "75e73f99-c4d4-4c70-9759-536b10abc852",
   "metadata": {},
   "source": [
    "## Host-Specific `\"submit_options\"`\n",
    "\n",
    "One can conditionally control whether `\"submit_options\"` are applied based on the FQDN ([fully qualified domain name](https://en.wikipedia.org/wiki/Fully_qualified_domain_name)) of the host running the step. "
   ]
  },
  {
   "cell_type": "code",
   "execution_count": null,
   "id": "24a4045e-e4b8-40b0-90b0-abbe7d77895d",
   "metadata": {},
   "outputs": [],
   "source": []
  }
 ],
 "metadata": {
  "kernelspec": {
   "display_name": "Python 3 (ipykernel)",
   "language": "python",
   "name": "python3"
  },
  "language_info": {
   "codemirror_mode": {
    "name": "ipython",
    "version": 3
   },
   "file_extension": ".py",
   "mimetype": "text/x-python",
   "name": "python",
   "nbconvert_exporter": "python",
   "pygments_lexer": "ipython3",
   "version": "3.9.18"
  }
 },
 "nbformat": 4,
 "nbformat_minor": 5
}
