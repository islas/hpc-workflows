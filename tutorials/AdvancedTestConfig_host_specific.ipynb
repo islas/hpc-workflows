{
 "cells": [
  {
   "cell_type": "markdown",
   "id": "0912a8f1-0ea4-42e1-ae58-0581dd58d66c",
   "metadata": {},
   "source": [
    "# Utilizing advanced features - Host-specific `\"submit_options\"`\n",
    "In this tutorial we will be exploring how to use advanced features of the framework. We will be using common terminology found in the repo's README.md - refer to that for any underlined terms that need clarification. Additionally, we will be building upon the material covered in the [Basic Test Config](./BasicTestConfig.ipynb); please review that tutorial if you haven't already. Anything in `\"code-quoted\"` format refers specifically to the test config, and anything in <ins>underlined</ins> format refers to specific terminology that can be found in the [README.md](../README.md).\n"
   ]
  },
  {
   "cell_type": "code",
   "execution_count": null,
   "id": "01684ca6-6479-4a21-b046-7fd6f3b1367f",
   "metadata": {},
   "outputs": [],
   "source": [
    "# Get notebook location\n",
    "shellReturn = !pwd\n",
    "notebookDirectory = shellReturn[0]\n",
    "print( \"Working from \" + notebookDirectory )"
   ]
  },
  {
   "cell_type": "markdown",
   "id": "b52c71d1-81f4-4f62-ad54-928a80b17d73",
   "metadata": {},
   "source": [
    "Advanced usage of the json config options `\"<match-fqdn>\"` under `\"submit_options\"` will be the focus of this tutorial :\n"
   ]
  },
  {
   "cell_type": "code",
   "execution_count": null,
   "id": "ffe86068-392f-4f21-b9ac-88e1d4ecb59a",
   "metadata": {},
   "outputs": [],
   "source": [
    "# Output template file documenting options\n",
    "from IPython.display import Markdown as md\n",
    "md( \"```jsonc\\n\" + open( notebookDirectory + \"/../.ci/template.json\", \"r\" )\n",
    "                        .read()\n",
    "                        .split( \"]\\n    },\" )[1]\n",
    "                        .split( \"\\\"<may-match-other-host>\\\"\" )[0] + \n",
    "   \"\\n```\" )"
   ]
  },
  {
   "cell_type": "markdown",
   "id": "75e73f99-c4d4-4c70-9759-536b10abc852",
   "metadata": {},
   "source": [
    "## Host-Specific `\"submit_options\"`\n",
    "\n",
    "One can conditionally control whether `\"submit_options\"` are applied based on the FQDN ([fully qualified domain name](https://en.wikipedia.org/wiki/Fully_qualified_domain_name)) of the host running the step. The logic to do so is simple but provides incredible flexibility and power in writing <ins>test configs</ins>. \n",
    "\n"
   ]
  },
  {
   "cell_type": "code",
   "execution_count": null,
   "id": "24a4045e-e4b8-40b0-90b0-abbe7d77895d",
   "metadata": {},
   "outputs": [],
   "source": [
    "# Output code snippet demonstrating feature\n",
    "from IPython.display import Markdown as md\n",
    "md( \"```python\\n  def selectHostSpecificSubmitOptions\" + \n",
    "     open( notebookDirectory + \"/../.ci/SubmitOptions.py\", \"r\" )\n",
    "                        .read()\n",
    "                        .split( \"def selectHostSpecificSubmitOptions\" )[1]\n",
    "                        .split( \"def format\" )[0] + \n",
    "   \"\\n```\" )"
   ]
  },
  {
   "cell_type": "markdown",
   "id": "a977ce93-2ece-4e6e-ad94-b62b183c4eef",
   "metadata": {},
   "source": [
    "The host argument is always supplied when this function is called in `Step.py` which is originally supplied by the `globalOpts_` (command-line options)"
   ]
  },
  {
   "cell_type": "code",
   "execution_count": null,
   "id": "6f997b6a-99ad-425e-8d83-d967a61ae5f2",
   "metadata": {},
   "outputs": [],
   "source": [
    "# Output code snippet demonstrating feature\n",
    "from IPython.display import Markdown as md\n",
    "md( \"```python\\n##### From Step.py #####\" + \n",
    "     open( notebookDirectory + \"/../.ci/Step.py\", \"r\" )\n",
    "                        .read()\n",
    "                        .split( \"Step.DependencyType( depType )\" )[1]\n",
    "                        .split( \"def validate\" )[0] + \n",
    "\n",
    "   \"\\n##### From runner.py #####\" +\n",
    "   open( notebookDirectory + \"/../.ci/runner.py\", \"r\" )\n",
    "                        .read()\n",
    "                        .split( \"basename = os.path.splitext( os.path.basename( options.testsConfig ) )[0]\" )[1]\n",
    "                        .split( \"success = False\" )[0] + \n",
    "   \"\\n```\" )\n"
   ]
  },
  {
   "cell_type": "markdown",
   "id": "e67e3df1-b8c6-4e27-8d1a-807062c45465",
   "metadata": {},
   "source": [
    "All we do is look at the accummulated `\"submit_options\"` and override any defaults with the first one that matches our FQDN. You might also notice that we have the ability to force it to appear as if we are a different host. This has some powerful implications that we will cover later, but for now we will us that to show how this all works. As there is no way to predict the hostname of where you might be running this notebook, instead we will say we are running on `tutorials.hpc-workflows.foobar.com`. We'll use the `--forceFQDN/-ff` flag to set our own \"hostname\" :\n",
    "\n",
    "\n"
   ]
  },
  {
   "cell_type": "code",
   "execution_count": null,
   "id": "5075832c-247e-41a4-a99c-76a5e9e812af",
   "metadata": {},
   "outputs": [],
   "source": [
    "%%bash -s \"$notebookDirectory\"\n",
    "$1/../.ci/runner.py $1/../our-config.json -h | \\\n",
    "  tr $'\\n' '@' | \\\n",
    "  sed -e 's/[ ]\\+-h.*\\?directly to stdout/.../g' | \\\n",
    "  sed -e 's/[ ]\\+-fs.*/.../g' | \\\n",
    "  tr '@' $'\\n'"
   ]
  },
  {
   "cell_type": "markdown",
   "id": "580b362f-ef46-4658-ac5a-4cd0dc019bb3",
   "metadata": {},
   "source": [
    "Let's start with a small set of `\"submit_options\"` that will be our defaults :"
   ]
  },
  {
   "cell_type": "code",
   "execution_count": null,
   "id": "e1b37def-a355-4d4e-b81e-0ae192539b59",
   "metadata": {},
   "outputs": [],
   "source": [
    "%%bash -s \"$notebookDirectory\" \n",
    "cat << EOF > $1/../our-config.json\n",
    "{\n",
    "  \"submit_options\" :\n",
    "  {\n",
    "    \"submission\" : \"LOCAL\",\n",
    "    \"timelimit\"  : \"00:01:00\",\n",
    "    \"arguments\"  :\n",
    "    {\n",
    "      \"data_path\" : [ \"-p\", \"/some/local/path/\" ]\n",
    "    }\n",
    "  },\n",
    "  \"our-test\" :\n",
    "  {\n",
    "    \"steps\" : { \"our-step0-less-nodes\" : { \"command\" : \"./tests/scripts/echo_normal.sh\" } }\n",
    "  }\n",
    "}\n",
    "EOF\n",
    "\n",
    "echo \"$( realpath $1/../our-config.json ) :\"\n",
    "cat $1/../our-config.json\n",
    "\n",
    "$1/../.ci/runner.py $1/../our-config.json -t our-test -fs -i -ff tutorials.hpc-workflows.foobar.com"
   ]
  },
  {
   "cell_type": "markdown",
   "id": "b5c0071b-c7b9-418c-82ea-8c7d75566acf",
   "metadata": {},
   "source": [
    "Looks good, let's start overriding our `\"data_path\"` <ins>argpack</ins>. Recall that we _could_ override it by providing an appropriate `\"submit_options\"` at the test or step level, but say we have many steps and tests that will make use of this data path. Likewise, on our `tutorials.hpc-workflows.foobar.com` we have the path set to something specific like `/opt/data/path/`. Instead we want to supply a host-specific designation at the top to be our new default :"
   ]
  },
  {
   "cell_type": "code",
   "execution_count": null,
   "id": "ab58b2e7-f329-4014-bc49-bbb6ce3f2ba6",
   "metadata": {},
   "outputs": [],
   "source": [
    "%%bash -s \"$notebookDirectory\" \n",
    "cat << EOF > $1/../our-config.json\n",
    "{\n",
    "  \"submit_options\" :\n",
    "  {\n",
    "    \"submission\" : \"LOCAL\",\n",
    "    \"timelimit\"  : \"00:01:00\",\n",
    "    \"arguments\"  :\n",
    "    {\n",
    "      \"data_path\" : [ \"-p\", \"/some/local/path/\" ]\n",
    "    },\n",
    "    \"tutorials\" :\n",
    "    {\n",
    "      \"arguments\" :\n",
    "      {\n",
    "        \"data_path\" : [ \"-p\", \"/opt/data/path\" ]\n",
    "      }\n",
    "    }\n",
    "  },\n",
    "  \"our-test\" :\n",
    "  {\n",
    "    \"steps\" : { \"our-step0-less-nodes\" : { \"command\" : \"./tests/scripts/echo_normal.sh\" } }\n",
    "  }\n",
    "}\n",
    "EOF\n",
    "\n",
    "echo \"$( realpath $1/../our-config.json ) :\"\n",
    "cat $1/../our-config.json\n",
    "\n",
    "$1/../.ci/runner.py $1/../our-config.json -t our-test -fs -i -ff tutorials.hpc-workflows.foobar.com"
   ]
  },
  {
   "cell_type": "markdown",
   "id": "1be06f39-0489-423f-9a22-58a27c478aeb",
   "metadata": {},
   "source": [
    "Notice that our input to the command script is now our host-specific `\"arguments\"`? Also, we need only match the name with python string [operator `in`](https://docs.python.org/3/reference/expressions.html#membership-test-details). If we then want to override this default for this host at the test level we need to match the previous string verbatim :"
   ]
  },
  {
   "cell_type": "code",
   "execution_count": null,
   "id": "c599db77-e796-4966-8ade-d7dd9e96952c",
   "metadata": {},
   "outputs": [],
   "source": [
    "%%bash -s \"$notebookDirectory\" \n",
    "cat << EOF > $1/../our-config.json\n",
    "{\n",
    "  \"submit_options\" :\n",
    "  {\n",
    "    \"submission\" : \"LOCAL\",\n",
    "    \"timelimit\"  : \"00:01:00\",\n",
    "    \"arguments\"  :\n",
    "    {\n",
    "      \"data_path\" : [ \"-p\", \"/some/local/path/\" ]\n",
    "    },\n",
    "    \"tutorials\" :\n",
    "    {\n",
    "      \"arguments\" :\n",
    "      {\n",
    "        \"data_path\" : [ \"-p\", \"/opt/data/path\" ]\n",
    "      }\n",
    "    }\n",
    "  },\n",
    "  \"our-test\" :\n",
    "  {\n",
    "    \"submit_options\" :\n",
    "    {\n",
    "      \"tutorials\" :\n",
    "      {\n",
    "        \"arguments\" :\n",
    "        {\n",
    "          \"data_path\" : [ \"-p\", \"/home/user/data/path\" ]\n",
    "        }\n",
    "      }\n",
    "    },\n",
    "    \"steps\" : { \"our-step0-less-nodes\" : { \"command\" : \"./tests/scripts/echo_normal.sh\" } }\n",
    "  }\n",
    "}\n",
    "EOF\n",
    "\n",
    "echo \"$( realpath $1/../our-config.json ) :\"\n",
    "cat $1/../our-config.json\n",
    "\n",
    "$1/../.ci/runner.py $1/../our-config.json -t our-test -fs -i -ff tutorials.hpc-workflows.foobar.com"
   ]
  },
  {
   "cell_type": "markdown",
   "id": "5c5c7fb7-2307-435e-859f-b13761de2b82",
   "metadata": {},
   "source": [
    "As shown in the .ci/template.json, host-specific `\"submit_options\"` must first appear in a parent `\"submit_options\"` entry but do not need the keyword themselves as their unique name counts as that. \n",
    "\n",
    "All the rules of `\"submit_options\"` (inheritance, overriding, etc.) apply here as well to their respective unique name entry. Thus, if we were to have written `\"hpc-workflows\"` as our host-specific name match for trying to override at the test level it would count as a separate entry. And since the selection process only takes the first one found that matches (entry names are preserved in the order they appear in the config) we would not get the expected results. \n",
    "\n",
    "If this doesn't make sense try running the following config and seeing what the data path is set to when `\"tutorials\"` host-specifics exists as well as when it is removed :\n",
    "```json\n",
    "{\n",
    "  \"submit_options\" :\n",
    "  {\n",
    "    \"submission\" : \"LOCAL\",\n",
    "    \"timelimit\"  : \"00:01:00\",\n",
    "    \"arguments\"  :\n",
    "    {\n",
    "      \"data_path\" : [ \"-p\", \"/some/local/path/\" ]\n",
    "    },\n",
    "    \"tutorials\" :\n",
    "    {\n",
    "      \"arguments\" :\n",
    "      {\n",
    "        \"data_path\" : [ \"-p\", \"/opt/data/path\" ]\n",
    "      }\n",
    "    }\n",
    "  },\n",
    "  \"our-test\" :\n",
    "  {\n",
    "    \"submit_options\" :\n",
    "    {\n",
    "      \"hpc-workflows\" :\n",
    "      {\n",
    "        \"arguments\" :\n",
    "        {\n",
    "          \"data_path\" : [ \"-p\", \"/home/user/data/path\" ]\n",
    "        }\n",
    "      }\n",
    "    },\n",
    "    \"steps\" : { \"our-step0-less-nodes\" : { \"command\" : \"./tests/scripts/echo_normal.sh\" } }\n",
    "  }\n",
    "}\n",
    "```\n",
    "\n",
    "Since we can actually force-set the pressumed FQDN, we can technically use these host-specific `\"submit_options\"` to act more like selectable configurations, essentially. This is by design and is encouraged if used appropriately. The selection based on FQDN is more of a convenience to be the default selection criteria."
   ]
  }
 ],
 "metadata": {
  "kernelspec": {
   "display_name": "Python 3 (ipykernel)",
   "language": "python",
   "name": "python3"
  },
  "language_info": {
   "codemirror_mode": {
    "name": "ipython",
    "version": 3
   },
   "file_extension": ".py",
   "mimetype": "text/x-python",
   "name": "python",
   "nbconvert_exporter": "python",
   "pygments_lexer": "ipython3",
   "version": "3.9.18"
  }
 },
 "nbformat": 4,
 "nbformat_minor": 5
}
